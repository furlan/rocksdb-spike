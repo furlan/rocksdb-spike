{
 "cells": [
  {
   "cell_type": "markdown",
   "id": "13cb9f06",
   "metadata": {},
   "source": [
    "# Simple Family Tree with RocksDB\n",
    "\n",
    "A basic example showing how to store and retrieve family data using RocksDB.\n",
    "\n",
    "**Family Structure:**\n",
    "- John (Father) + Alice (Mother)\n",
    "- Children: David (Male, Married) + Joe (Male, Single)\n",
    "- David + Sarah (Wife) → Michael (Son)"
   ]
  },
  {
   "cell_type": "markdown",
   "id": "b66badc4",
   "metadata": {},
   "source": [
    "## Step 1: Install and Import"
   ]
  },
  {
   "cell_type": "code",
   "execution_count": 1,
   "id": "ec2d3735",
   "metadata": {},
   "outputs": [
    {
     "name": "stdout",
     "output_type": "stream",
     "text": [
      "=== Virtual Environment Status ===\n",
      "Python executable: /workspaces/curiosity/.venv/bin/python\n",
      "Python version: 3.11.2 (main, Apr 28 2025, 14:11:48) [GCC 12.2.0]\n",
      "Virtual environment active: True\n",
      "✓ Running in virtual environment (.venv)\n",
      "Current working directory: /workspaces/curiosity\n",
      "==================================================\n"
     ]
    }
   ],
   "source": [
    "# Check virtual environment status\n",
    "import sys\n",
    "import os\n",
    "\n",
    "print(\"=== Virtual Environment Status ===\")\n",
    "print(f\"Python executable: {sys.executable}\")\n",
    "print(f\"Python version: {sys.version}\")\n",
    "print(f\"Virtual environment active: {hasattr(sys, 'real_prefix') or (hasattr(sys, 'base_prefix') and sys.base_prefix != sys.prefix)}\")\n",
    "\n",
    "if '.venv' in sys.executable:\n",
    "    print(\"✓ Running in virtual environment (.venv)\")\n",
    "else:\n",
    "    print(\"⚠️  Not running in expected virtual environment\")\n",
    "\n",
    "print(f\"Current working directory: {os.getcwd()}\")\n",
    "print(\"=\" * 50)"
   ]
  },
  {
   "cell_type": "code",
   "execution_count": 2,
   "id": "9a152ecc",
   "metadata": {},
   "outputs": [
    {
     "name": "stdout",
     "output_type": "stream",
     "text": [
      "Installing rocksdict...\n",
      "Collecting rocksdict\n",
      "  Downloading rocksdict-0.3.27-cp311-cp311-manylinux_2_28_x86_64.whl.metadata (6.3 kB)\n",
      "Downloading rocksdict-0.3.27-cp311-cp311-manylinux_2_28_x86_64.whl (4.1 MB)\n",
      "\u001b[2K   \u001b[90m━━━━━━━━━━━━━━━━━━━━━━━━━━━━━━━━━━━━━━━━\u001b[0m \u001b[32m4.1/4.1 MB\u001b[0m \u001b[31m3.1 MB/s\u001b[0m eta \u001b[36m0:00:00\u001b[0ma \u001b[36m0:00:01\u001b[0m\n",
      "\u001b[?25hInstalling collected packages: rocksdict\n",
      "Successfully installed rocksdict-0.3.27\n",
      "✓ rocksdict installed successfully!\n",
      "✓ rocksdict imported successfully\n"
     ]
    }
   ],
   "source": [
    "# Install rocksdict (easier alternative to python-rocksdb)\n",
    "import subprocess\n",
    "import sys\n",
    "\n",
    "def install_rocksdict():\n",
    "    \"\"\"Install rocksdict which is easier than python-rocksdb\"\"\"\n",
    "    try:\n",
    "        subprocess.check_call([sys.executable, \"-m\", \"pip\", \"install\", \"rocksdict\"])\n",
    "        print(\"✓ rocksdict installed successfully!\")\n",
    "        return True\n",
    "    except subprocess.CalledProcessError:\n",
    "        print(\"❌ Failed to install rocksdict\")\n",
    "        return False\n",
    "\n",
    "try:\n",
    "    import rocksdict\n",
    "    print(\"✓ rocksdict already installed\")\n",
    "except ImportError:\n",
    "    print(\"Installing rocksdict...\")\n",
    "    success = install_rocksdict()\n",
    "    if not success:\n",
    "        print(\"❌ Failed to install rocksdict\")\n",
    "        print(\"Please run manually: pip install rocksdict\")\n",
    "    else:\n",
    "        import rocksdict\n",
    "        print(\"✓ rocksdict imported successfully\")"
   ]
  },
  {
   "cell_type": "code",
   "execution_count": 3,
   "id": "dff5b363",
   "metadata": {},
   "outputs": [
    {
     "name": "stdout",
     "output_type": "stream",
     "text": [
      "Libraries imported successfully!\n"
     ]
    }
   ],
   "source": [
    "# Import libraries\n",
    "import json\n",
    "import rocksdict\n",
    "\n",
    "print(\"Libraries imported successfully!\")"
   ]
  },
  {
   "cell_type": "markdown",
   "id": "aef2af55",
   "metadata": {},
   "source": [
    "## Step 2: Setup Database"
   ]
  },
  {
   "cell_type": "code",
   "execution_count": 4,
   "id": "6b6c2a91",
   "metadata": {},
   "outputs": [
    {
     "name": "stdout",
     "output_type": "stream",
     "text": [
      "RocksDB database created successfully!\n"
     ]
    }
   ],
   "source": [
    "# Create RocksDB database using rocksdict\n",
    "from rocksdict import Rdict, Options\n",
    "\n",
    "# Create database with options\n",
    "opts = Options()\n",
    "opts.create_if_missing(True)\n",
    "db = Rdict(\"family_db\", options=opts)\n",
    "\n",
    "print(\"RocksDB database created successfully!\")"
   ]
  },
  {
   "cell_type": "markdown",
   "id": "dd98584e",
   "metadata": {},
   "source": [
    "## Step 3: Helper Functions"
   ]
  },
  {
   "cell_type": "code",
   "execution_count": 5,
   "id": "1416b3ae",
   "metadata": {},
   "outputs": [
    {
     "name": "stdout",
     "output_type": "stream",
     "text": [
      "Helper functions defined!\n"
     ]
    }
   ],
   "source": [
    "def add_person(name, sex, parent=None, spouse=None):\n",
    "    \"\"\"Add a person to the family tree\"\"\"\n",
    "    person = {\n",
    "        'name': name,\n",
    "        'sex': sex,\n",
    "        'parent': parent,\n",
    "        'spouse': spouse\n",
    "    }\n",
    "    # Store in RocksDB (rocksdict handles encoding automatically)\n",
    "    db[name] = json.dumps(person)\n",
    "    print(f\"Added: {name} ({sex})\")\n",
    "\n",
    "def get_person(name):\n",
    "    \"\"\"Get a person from the database\"\"\"\n",
    "    try:\n",
    "        data = db.get(name)\n",
    "        if data:\n",
    "            return json.loads(data)\n",
    "    except:\n",
    "        pass\n",
    "    return None\n",
    "\n",
    "def show_person(name):\n",
    "    \"\"\"Display person details\"\"\"\n",
    "    person = get_person(name)\n",
    "    if person:\n",
    "        print(f\"Name: {person['name']}\")\n",
    "        print(f\"Sex: {person['sex']}\")\n",
    "        print(f\"Parent: {person['parent'] or 'None'}\")\n",
    "        print(f\"Spouse: {person['spouse'] or 'None'}\")\n",
    "        print(\"-\" * 20)\n",
    "    else:\n",
    "        print(f\"{name} not found\")\n",
    "\n",
    "def show_all():\n",
    "    \"\"\"Show all people in the database\"\"\"\n",
    "    print(\"=== Family Tree ===\")\n",
    "    # Iterate through all keys in RocksDB\n",
    "    for key in db.keys():\n",
    "        name = key\n",
    "        show_person(name)\n",
    "\n",
    "print(\"Helper functions defined!\")"
   ]
  },
  {
   "cell_type": "markdown",
   "id": "df3e8b6c",
   "metadata": {},
   "source": [
    "## Step 4: Create Family"
   ]
  },
  {
   "cell_type": "code",
   "execution_count": 6,
   "id": "85a3a222",
   "metadata": {},
   "outputs": [
    {
     "name": "stdout",
     "output_type": "stream",
     "text": [
      "Added: John (Male)\n",
      "Added: Alice (Female)\n",
      "\n",
      "Parents added!\n"
     ]
    }
   ],
   "source": [
    "# Add parents\n",
    "add_person(\"John\", \"Male\")\n",
    "add_person(\"Alice\", \"Female\", spouse=\"John\")\n",
    "\n",
    "# Update John's spouse\n",
    "john = get_person(\"John\")\n",
    "john['spouse'] = \"Alice\"\n",
    "db[\"John\"] = json.dumps(john)\n",
    "\n",
    "print(\"\\nParents added!\")"
   ]
  },
  {
   "cell_type": "code",
   "execution_count": 7,
   "id": "9393e80e",
   "metadata": {},
   "outputs": [
    {
     "name": "stdout",
     "output_type": "stream",
     "text": [
      "Added: David (Male)\n",
      "Added: Joe (Male)\n",
      "\n",
      "Children added!\n"
     ]
    }
   ],
   "source": [
    "# Add children of John and Alice\n",
    "add_person(\"David\", \"Male\", parent=\"John\")\n",
    "add_person(\"Joe\", \"Male\", parent=\"John\")\n",
    "\n",
    "print(\"\\nChildren added!\")"
   ]
  },
  {
   "cell_type": "code",
   "execution_count": 8,
   "id": "a488f006",
   "metadata": {},
   "outputs": [
    {
     "name": "stdout",
     "output_type": "stream",
     "text": [
      "Added: Sarah (Female)\n",
      "Added: Michael (Male)\n",
      "\n",
      "David's family added!\n"
     ]
    }
   ],
   "source": [
    "# Add David's wife\n",
    "add_person(\"Sarah\", \"Female\", spouse=\"David\")\n",
    "\n",
    "# Update David's spouse\n",
    "david = get_person(\"David\")\n",
    "david['spouse'] = \"Sarah\"\n",
    "db[\"David\"] = json.dumps(david)\n",
    "\n",
    "# Add David and Sarah's child\n",
    "add_person(\"Michael\", \"Male\", parent=\"David\")\n",
    "\n",
    "print(\"\\nDavid's family added!\")"
   ]
  },
  {
   "cell_type": "markdown",
   "id": "75b40358",
   "metadata": {},
   "source": [
    "## Step 5: View Family Tree"
   ]
  },
  {
   "cell_type": "code",
   "execution_count": 9,
   "id": "ec6a3d54",
   "metadata": {},
   "outputs": [
    {
     "name": "stdout",
     "output_type": "stream",
     "text": [
      "=== Family Tree ===\n",
      "Name: Alice\n",
      "Sex: Female\n",
      "Parent: None\n",
      "Spouse: John\n",
      "--------------------\n",
      "Name: David\n",
      "Sex: Male\n",
      "Parent: John\n",
      "Spouse: Sarah\n",
      "--------------------\n",
      "Name: Joe\n",
      "Sex: Male\n",
      "Parent: John\n",
      "Spouse: None\n",
      "--------------------\n",
      "Name: John\n",
      "Sex: Male\n",
      "Parent: None\n",
      "Spouse: Alice\n",
      "--------------------\n",
      "Name: Michael\n",
      "Sex: Male\n",
      "Parent: David\n",
      "Spouse: None\n",
      "--------------------\n",
      "Name: Sarah\n",
      "Sex: Female\n",
      "Parent: None\n",
      "Spouse: David\n",
      "--------------------\n"
     ]
    }
   ],
   "source": [
    "# Show complete family tree\n",
    "show_all()"
   ]
  },
  {
   "cell_type": "markdown",
   "id": "0f0a9435",
   "metadata": {},
   "source": [
    "## Step 6: Simple Queries"
   ]
  },
  {
   "cell_type": "code",
   "execution_count": 10,
   "id": "3ae2f01e",
   "metadata": {},
   "outputs": [
    {
     "name": "stdout",
     "output_type": "stream",
     "text": [
      "All males: ['David', 'Joe', 'John', 'Michael']\n",
      "John's children: ['David', 'Joe']\n",
      "David's children: ['Michael']\n"
     ]
    }
   ],
   "source": [
    "def find_males():\n",
    "    \"\"\"Find all male family members\"\"\"\n",
    "    males = []\n",
    "    # Iterate through RocksDB\n",
    "    for name in db.keys():\n",
    "        person = get_person(name)\n",
    "        if person and person['sex'] == 'Male':\n",
    "            males.append(person['name'])\n",
    "    return males\n",
    "\n",
    "def find_children(parent_name):\n",
    "    \"\"\"Find children of a specific parent\"\"\"\n",
    "    children = []\n",
    "    # Iterate through RocksDB\n",
    "    for name in db.keys():\n",
    "        person = get_person(name)\n",
    "        if person and person['parent'] == parent_name:\n",
    "            children.append(person['name'])\n",
    "    return children\n",
    "\n",
    "# Examples\n",
    "print(\"All males:\", find_males())\n",
    "print(\"John's children:\", find_children(\"John\"))\n",
    "print(\"David's children:\", find_children(\"David\"))"
   ]
  },
  {
   "cell_type": "code",
   "execution_count": 11,
   "id": "dd1178cb",
   "metadata": {},
   "outputs": [
    {
     "name": "stdout",
     "output_type": "stream",
     "text": [
      "=== Individual Details ===\n",
      "Name: David\n",
      "Sex: Male\n",
      "Parent: John\n",
      "Spouse: Sarah\n",
      "--------------------\n",
      "Name: Joe\n",
      "Sex: Male\n",
      "Parent: John\n",
      "Spouse: None\n",
      "--------------------\n",
      "Name: Michael\n",
      "Sex: Male\n",
      "Parent: David\n",
      "Spouse: None\n",
      "--------------------\n"
     ]
    }
   ],
   "source": [
    "# Look up specific people\n",
    "print(\"=== Individual Details ===\")\n",
    "show_person(\"David\")\n",
    "show_person(\"Joe\")\n",
    "show_person(\"Michael\")"
   ]
  },
  {
   "cell_type": "markdown",
   "id": "45004d7c",
   "metadata": {},
   "source": [
    "## Step 7: Raw Data"
   ]
  },
  {
   "cell_type": "code",
   "execution_count": 12,
   "id": "aae4c81e",
   "metadata": {},
   "outputs": [
    {
     "name": "stdout",
     "output_type": "stream",
     "text": [
      "All family data in RocksDB:\n",
      "Alice: {'name': 'Alice', 'sex': 'Female', 'parent': None, 'spouse': 'John'}\n",
      "David: {'name': 'David', 'sex': 'Male', 'parent': 'John', 'spouse': 'Sarah'}\n",
      "Joe: {'name': 'Joe', 'sex': 'Male', 'parent': 'John', 'spouse': None}\n",
      "John: {'name': 'John', 'sex': 'Male', 'parent': None, 'spouse': 'Alice'}\n",
      "Michael: {'name': 'Michael', 'sex': 'Male', 'parent': 'David', 'spouse': None}\n",
      "Sarah: {'name': 'Sarah', 'sex': 'Female', 'parent': None, 'spouse': 'David'}\n"
     ]
    }
   ],
   "source": [
    "# See all data stored in RocksDB\n",
    "print(\"All family data in RocksDB:\")\n",
    "for name, data in db.items():\n",
    "    person_data = json.loads(data)\n",
    "    print(f\"{name}: {person_data}\")"
   ]
  },
  {
   "cell_type": "markdown",
   "id": "4b35bfff",
   "metadata": {},
   "source": [
    "## Summary\n",
    "\n",
    "This simple notebook shows:\n",
    "1. How to install and use RocksDB with Python\n",
    "2. Basic read/write operations \n",
    "3. A simple family tree with the exact structure you requested:\n",
    "   - John (father) + Alice (mother)\n",
    "   - David (son, married to Sarah with child Michael)\n",
    "   - Joe (son, unmarried)\n",
    "4. Simple queries to find specific family members\n",
    "\n",
    "The database file is saved locally and persists between runs."
   ]
  },
  {
   "cell_type": "code",
   "execution_count": 13,
   "id": "d6bcb23d",
   "metadata": {},
   "outputs": [
    {
     "name": "stdout",
     "output_type": "stream",
     "text": [
      "Database closed.\n"
     ]
    }
   ],
   "source": [
    "# Close the database\n",
    "db.close()\n",
    "print(\"Database closed.\")"
   ]
  }
 ],
 "metadata": {
  "kernelspec": {
   "display_name": ".venv",
   "language": "python",
   "name": "python3"
  },
  "language_info": {
   "codemirror_mode": {
    "name": "ipython",
    "version": 3
   },
   "file_extension": ".py",
   "mimetype": "text/x-python",
   "name": "python",
   "nbconvert_exporter": "python",
   "pygments_lexer": "ipython3",
   "version": "3.11.2"
  }
 },
 "nbformat": 4,
 "nbformat_minor": 5
}
